{
  "nbformat": 4,
  "nbformat_minor": 0,
  "metadata": {
    "colab": {
      "provenance": [],
      "gpuType": "T4",
      "mount_file_id": "1AuvgZmna8b97UCEs2FPZg91S3hQUEJYL",
      "authorship_tag": "ABX9TyN+Fy+2mtK5/2VK0lE/P+aI",
      "include_colab_link": true
    },
    "kernelspec": {
      "name": "python3",
      "display_name": "Python 3"
    },
    "language_info": {
      "name": "python"
    },
    "accelerator": "GPU"
  },
  "cells": [
    {
      "cell_type": "markdown",
      "metadata": {
        "id": "view-in-github",
        "colab_type": "text"
      },
      "source": [
        "<a href=\"https://colab.research.google.com/github/Monisha-18/CNN_BUILDINGSvsFORESTS/blob/main/CNN_BUILDINGSvsFORESTS.ipynb\" target=\"_parent\"><img src=\"https://colab.research.google.com/assets/colab-badge.svg\" alt=\"Open In Colab\"/></a>"
      ]
    },
    {
      "cell_type": "code",
      "execution_count": null,
      "metadata": {
        "id": "0UHf6ssLwR_p"
      },
      "outputs": [],
      "source": [
        "from tensorflow import keras\n",
        "from keras.models import Sequential\n",
        "from keras.layers import Conv2D\n",
        "from keras.layers import MaxPooling2D\n",
        "from keras.layers import Flatten\n",
        "from keras.layers import Dense\n",
        "from keras.layers import LeakyReLU"
      ]
    },
    {
      "cell_type": "code",
      "source": [
        "import numpy as np"
      ],
      "metadata": {
        "id": "BgwHk91FyZ-Y"
      },
      "execution_count": null,
      "outputs": []
    },
    {
      "cell_type": "code",
      "source": [
        "model=Sequential()\n",
        "model.add(Conv2D(32,(3,3),input_shape=(64,64,3),activation='relu'))\n",
        "model.add(MaxPooling2D(2,2))\n",
        "model.add(Conv2D(34,(5,5),activation='relu'))\n",
        "model.add(MaxPooling2D(2,2))\n",
        "model.add(Flatten())\n",
        "model.add(Dense(108,activation='relu'))\n",
        "model.add(Dense(100,activation='relu'))\n",
        "model.add(Dense(15,activation='relu'))\n",
        "\n",
        "#output layer\n",
        "model.add(Dense(1,activation='sigmoid'))"
      ],
      "metadata": {
        "id": "K4wnZEIyybh9"
      },
      "execution_count": null,
      "outputs": []
    },
    {
      "cell_type": "code",
      "source": [
        "model.compile(optimizer='adadelta',loss='binary_crossentropy',metrics=['accuracy'])"
      ],
      "metadata": {
        "id": "EfqncRzN2nFc"
      },
      "execution_count": null,
      "outputs": []
    },
    {
      "cell_type": "code",
      "source": [
        "from keras.preprocessing.image import ImageDataGenerator\n",
        "train_datagen = ImageDataGenerator(rescale = 1./255,\n",
        "                                   shear_range = 0.2,\n",
        "                                   zoom_range = 0.4,\n",
        "                                   horizontal_flip = True)\n",
        "test_datagen = ImageDataGenerator(rescale = 1./255)"
      ],
      "metadata": {
        "id": "sKAH8L8u2o1x"
      },
      "execution_count": null,
      "outputs": []
    },
    {
      "cell_type": "code",
      "source": [
        "training_set=train_datagen.flow_from_directory('/content/drive/MyDrive/buildings-vs-forests/traning_set',target_size=(64,64),batch_size=8,class_mode='binary')\n",
        "test_set=test_datagen.flow_from_directory('/content/drive/MyDrive/buildings-vs-forests/test_set',target_size=(64,64),batch_size=8,class_mode='binary')"
      ],
      "metadata": {
        "colab": {
          "base_uri": "https://localhost:8080/"
        },
        "id": "hYaoTuMp2uB5",
        "outputId": "eba2a125-44e0-4618-fec6-3cd53cb31df5"
      },
      "execution_count": null,
      "outputs": [
        {
          "output_type": "stream",
          "name": "stdout",
          "text": [
            "Found 4443 images belonging to 2 classes.\n",
            "Found 911 images belonging to 2 classes.\n"
          ]
        }
      ]
    },
    {
      "cell_type": "code",
      "source": [
        "#fit model\n",
        "model.fit(training_set,steps_per_epoch=20,epochs=10)"
      ],
      "metadata": {
        "colab": {
          "base_uri": "https://localhost:8080/"
        },
        "id": "Jw0xwb-z2vi6",
        "outputId": "85b649d3-d1a5-441b-e591-bcc08c748aa1"
      },
      "execution_count": null,
      "outputs": [
        {
          "output_type": "stream",
          "name": "stdout",
          "text": [
            "Epoch 1/10\n",
            "20/20 [==============================] - 66s 3s/step - loss: 0.6924 - accuracy: 0.5063\n",
            "Epoch 2/10\n",
            "20/20 [==============================] - 32s 2s/step - loss: 0.6918 - accuracy: 0.5125\n",
            "Epoch 3/10\n",
            "20/20 [==============================] - 28s 1s/step - loss: 0.6920 - accuracy: 0.5437\n",
            "Epoch 4/10\n",
            "20/20 [==============================] - 26s 1s/step - loss: 0.6917 - accuracy: 0.5437\n",
            "Epoch 5/10\n",
            "20/20 [==============================] - 22s 1s/step - loss: 0.6897 - accuracy: 0.5813\n",
            "Epoch 6/10\n",
            "20/20 [==============================] - 25s 1s/step - loss: 0.6897 - accuracy: 0.5625\n",
            "Epoch 7/10\n",
            "20/20 [==============================] - 26s 1s/step - loss: 0.6887 - accuracy: 0.5813\n",
            "Epoch 8/10\n",
            "20/20 [==============================] - 26s 1s/step - loss: 0.6874 - accuracy: 0.5562\n",
            "Epoch 9/10\n",
            "20/20 [==============================] - 26s 1s/step - loss: 0.6887 - accuracy: 0.5250\n",
            "Epoch 10/10\n",
            "20/20 [==============================] - 21s 992ms/step - loss: 0.6886 - accuracy: 0.5437\n"
          ]
        },
        {
          "output_type": "execute_result",
          "data": {
            "text/plain": [
              "<keras.src.callbacks.History at 0x7b7839b0f4c0>"
            ]
          },
          "metadata": {},
          "execution_count": 7
        }
      ]
    },
    {
      "cell_type": "code",
      "source": [
        "test_loss,test_acc=model.evaluate(test_set,verbose=2)\n",
        "\n",
        "print(\"\\n\\n\")\n",
        "print(\"Test loss: \\t\",test_loss,\"\\n\")\n",
        "print(\"Test accuracy: \\t\",test_acc,\"\\n\")"
      ],
      "metadata": {
        "colab": {
          "base_uri": "https://localhost:8080/"
        },
        "id": "cVR_t_zF2x4q",
        "outputId": "6aa72cda-34a1-4b40-83c3-a392dd423810"
      },
      "execution_count": null,
      "outputs": [
        {
          "output_type": "stream",
          "name": "stdout",
          "text": [
            "114/114 - 334s - loss: 0.6892 - accuracy: 0.5269 - 334s/epoch - 3s/step\n",
            "\n",
            "\n",
            "\n",
            "Test loss: \t 0.6892133355140686 \n",
            "\n",
            "Test accuracy: \t 0.5268934965133667 \n",
            "\n"
          ]
        }
      ]
    },
    {
      "cell_type": "code",
      "source": [
        "import tensorflow as tf\n",
        "resnet_model=Sequential()\n",
        "pretrained_model=tf.keras.applications.ResNet50(include_top=False,input_shape=(64,64,3),pooling='avg',classes=2,weights='imagenet')\n",
        "for layer in pretrained_model.layers:\n",
        "  layer.trainable=False\n",
        "\n",
        "resnet_model.add(pretrained_model)\n",
        "resnet_model.add(Flatten())\n",
        "resnet_model.add(Dense(200,activation='relu'))\n",
        "resnet_model.add(Dense(1,activation='sigmoid'))"
      ],
      "metadata": {
        "id": "VA7GqIwN2zjZ",
        "colab": {
          "base_uri": "https://localhost:8080/"
        },
        "outputId": "1f46eb64-b1df-4da0-ae37-8709eb6327d7"
      },
      "execution_count": null,
      "outputs": [
        {
          "output_type": "stream",
          "name": "stdout",
          "text": [
            "Downloading data from https://storage.googleapis.com/tensorflow/keras-applications/resnet/resnet50_weights_tf_dim_ordering_tf_kernels_notop.h5\n",
            "94765736/94765736 [==============================] - 0s 0us/step\n"
          ]
        }
      ]
    },
    {
      "cell_type": "code",
      "source": [
        "resnet_model.compile(optimizer='adadelta',loss='binary_crossentropy',metrics=['accuracy'])"
      ],
      "metadata": {
        "id": "zpvvlUI621tH"
      },
      "execution_count": null,
      "outputs": []
    },
    {
      "cell_type": "code",
      "source": [
        "#fit model\n",
        "resnet_model.fit(training_set,steps_per_epoch=20,epochs=10)"
      ],
      "metadata": {
        "colab": {
          "base_uri": "https://localhost:8080/"
        },
        "id": "cWH40FE223zv",
        "outputId": "9a4ad485-47e7-4d41-8fbf-643880b5946c"
      },
      "execution_count": null,
      "outputs": [
        {
          "output_type": "stream",
          "name": "stdout",
          "text": [
            "Epoch 1/10\n",
            "20/20 [==============================] - 24s 956ms/step - loss: 0.7464 - accuracy: 0.5063\n",
            "Epoch 2/10\n",
            "20/20 [==============================] - 21s 1s/step - loss: 0.7932 - accuracy: 0.4387\n",
            "Epoch 3/10\n",
            "20/20 [==============================] - 19s 963ms/step - loss: 0.7389 - accuracy: 0.5125\n",
            "Epoch 4/10\n",
            "20/20 [==============================] - 18s 910ms/step - loss: 0.7779 - accuracy: 0.4563\n",
            "Epoch 5/10\n",
            "20/20 [==============================] - 17s 817ms/step - loss: 0.7250 - accuracy: 0.5312\n",
            "Epoch 6/10\n",
            "20/20 [==============================] - 15s 722ms/step - loss: 0.7560 - accuracy: 0.4750\n",
            "Epoch 7/10\n",
            "20/20 [==============================] - 14s 724ms/step - loss: 0.7342 - accuracy: 0.5063\n",
            "Epoch 8/10\n",
            "20/20 [==============================] - 19s 923ms/step - loss: 0.7614 - accuracy: 0.4563\n",
            "Epoch 9/10\n",
            "20/20 [==============================] - 16s 787ms/step - loss: 0.7413 - accuracy: 0.4875\n",
            "Epoch 10/10\n",
            "20/20 [==============================] - 14s 686ms/step - loss: 0.6817 - accuracy: 0.5813\n"
          ]
        },
        {
          "output_type": "execute_result",
          "data": {
            "text/plain": [
              "<keras.src.callbacks.History at 0x7b77b6f394e0>"
            ]
          },
          "metadata": {},
          "execution_count": 11
        }
      ]
    },
    {
      "cell_type": "code",
      "source": [
        "test_loss,test_acc=resnet_model.evaluate(test_set,verbose=2)\n",
        "\n",
        "print(\"\\n\\n\")\n",
        "print(\"Test loss: \\t\",test_loss,\"\\n\")\n",
        "print(\"Test accuracy: \\t\",test_acc,\"\\n\")"
      ],
      "metadata": {
        "colab": {
          "base_uri": "https://localhost:8080/"
        },
        "id": "mB7tbkLf25if",
        "outputId": "38d30f2f-99fb-4ddc-d3c4-f675e7369f3d"
      },
      "execution_count": null,
      "outputs": [
        {
          "output_type": "stream",
          "name": "stdout",
          "text": [
            "114/114 - 5s - loss: 0.7424 - accuracy: 0.4797 - 5s/epoch - 43ms/step\n",
            "\n",
            "\n",
            "\n",
            "Test loss: \t 0.7423544526100159 \n",
            "\n",
            "Test accuracy: \t 0.47969263792037964 \n",
            "\n"
          ]
        }
      ]
    },
    {
      "cell_type": "code",
      "source": [
        "from tensorflow.keras.applications.vgg16 import VGG16\n",
        "\n",
        "vgg_model=Sequential()\n",
        "base_model=VGG16(include_top=False,input_shape=(64,64,3),pooling='avg',classes=2,weights='imagenet')\n",
        "layer.trainable=False\n",
        "vgg_model.add(base_model)\n",
        "\n",
        "vgg_model.add(Flatten())\n",
        "vgg_model.add(Dense(512,activation='relu'))\n",
        "vgg_model.add(Dense(1,activation='sigmoid'))"
      ],
      "metadata": {
        "id": "A0TYyt6P3aRA",
        "colab": {
          "base_uri": "https://localhost:8080/"
        },
        "outputId": "4834b1b1-ea80-47f9-de49-5a6305787a2e"
      },
      "execution_count": null,
      "outputs": [
        {
          "output_type": "stream",
          "name": "stdout",
          "text": [
            "Downloading data from https://storage.googleapis.com/tensorflow/keras-applications/vgg16/vgg16_weights_tf_dim_ordering_tf_kernels_notop.h5\n",
            "58889256/58889256 [==============================] - 0s 0us/step\n"
          ]
        }
      ]
    },
    {
      "cell_type": "code",
      "source": [
        "vgg_model.compile(optimizer='adadelta',loss='binary_crossentropy',metrics=['accuracy'])"
      ],
      "metadata": {
        "id": "Opwa9P073cSn"
      },
      "execution_count": null,
      "outputs": []
    },
    {
      "cell_type": "code",
      "source": [
        "#fit model\n",
        "vgg_model.fit(training_set,steps_per_epoch=20,epochs=10)"
      ],
      "metadata": {
        "colab": {
          "base_uri": "https://localhost:8080/"
        },
        "id": "8lJb0t0m3sIN",
        "outputId": "cc7d2542-0c2d-41db-d86e-0ba75d9cd282"
      },
      "execution_count": null,
      "outputs": [
        {
          "output_type": "stream",
          "name": "stdout",
          "text": [
            "Epoch 1/10\n",
            "20/20 [==============================] - 19s 571ms/step - loss: 0.6919 - accuracy: 0.5562\n",
            "Epoch 2/10\n",
            "20/20 [==============================] - 13s 647ms/step - loss: 0.6492 - accuracy: 0.6438\n",
            "Epoch 3/10\n",
            "20/20 [==============================] - 12s 565ms/step - loss: 0.6359 - accuracy: 0.7226\n",
            "Epoch 4/10\n",
            "20/20 [==============================] - 15s 701ms/step - loss: 0.5854 - accuracy: 0.8125\n",
            "Epoch 5/10\n",
            "20/20 [==============================] - 16s 784ms/step - loss: 0.5463 - accuracy: 0.8500\n",
            "Epoch 6/10\n",
            "20/20 [==============================] - 12s 597ms/step - loss: 0.4734 - accuracy: 0.9187\n",
            "Epoch 7/10\n",
            "20/20 [==============================] - 12s 603ms/step - loss: 0.4042 - accuracy: 0.9250\n",
            "Epoch 8/10\n",
            "20/20 [==============================] - 11s 541ms/step - loss: 0.3539 - accuracy: 0.9625\n",
            "Epoch 9/10\n",
            "20/20 [==============================] - 9s 431ms/step - loss: 0.3282 - accuracy: 0.9250\n",
            "Epoch 10/10\n",
            "20/20 [==============================] - 8s 362ms/step - loss: 0.2739 - accuracy: 0.9187\n"
          ]
        },
        {
          "output_type": "execute_result",
          "data": {
            "text/plain": [
              "<keras.src.callbacks.History at 0x7b77c4e4ab30>"
            ]
          },
          "metadata": {},
          "execution_count": 15
        }
      ]
    },
    {
      "cell_type": "code",
      "source": [
        "test_loss,test_acc=vgg_model.evaluate(test_set,verbose=2)\n",
        "\n",
        "print(\"\\n\\n\")\n",
        "print(\"Test loss: \\t\",test_loss,\"\\n\")\n",
        "print(\"Test accuracy: \\t\",test_acc,\"\\n\")"
      ],
      "metadata": {
        "colab": {
          "base_uri": "https://localhost:8080/"
        },
        "id": "acP8DWfa3vPm",
        "outputId": "6bf44ae4-2a40-4690-ce95-a92c22977e5b"
      },
      "execution_count": null,
      "outputs": [
        {
          "output_type": "stream",
          "name": "stdout",
          "text": [
            "114/114 - 4s - loss: 0.2073 - accuracy: 0.9550 - 4s/epoch - 35ms/step\n",
            "\n",
            "\n",
            "\n",
            "Test loss: \t 0.2073184996843338 \n",
            "\n",
            "Test accuracy: \t 0.9549944996833801 \n",
            "\n"
          ]
        }
      ]
    },
    {
      "cell_type": "code",
      "source": [
        "from tensorflow.keras.applications.vgg19 import VGG19\n",
        "\n",
        "vgg19_model=Sequential()\n",
        "base_model19=VGG19(include_top=False,input_shape=(64,64,3),pooling='avg',classes=2,weights='imagenet')\n",
        "layer.trainable=False\n",
        "vgg19_model.add(base_model19)\n",
        "\n",
        "vgg19_model.add(Flatten())\n",
        "vgg19_model.add(Dense(512,activation='relu'))\n",
        "vgg19_model.add(Dense(1,activation='sigmoid'))"
      ],
      "metadata": {
        "colab": {
          "base_uri": "https://localhost:8080/"
        },
        "id": "sYeDMTrb3w1V",
        "outputId": "34e09f68-d011-4a99-ce36-2ad9481dffd5"
      },
      "execution_count": null,
      "outputs": [
        {
          "output_type": "stream",
          "name": "stdout",
          "text": [
            "Downloading data from https://storage.googleapis.com/tensorflow/keras-applications/vgg19/vgg19_weights_tf_dim_ordering_tf_kernels_notop.h5\n",
            "80134624/80134624 [==============================] - 0s 0us/step\n"
          ]
        }
      ]
    },
    {
      "cell_type": "code",
      "source": [
        "vgg19_model.compile(optimizer='adadelta',loss='binary_crossentropy',metrics=['accuracy'])"
      ],
      "metadata": {
        "id": "OvkZki289pHC"
      },
      "execution_count": null,
      "outputs": []
    },
    {
      "cell_type": "code",
      "source": [
        "#fit model\n",
        "vgg19_model.fit(training_set,steps_per_epoch=20,epochs=10)"
      ],
      "metadata": {
        "colab": {
          "base_uri": "https://localhost:8080/"
        },
        "id": "Xw7-EGa_9tGa",
        "outputId": "c7d1610e-d322-454c-80d9-e6efd3cab603"
      },
      "execution_count": null,
      "outputs": [
        {
          "output_type": "stream",
          "name": "stdout",
          "text": [
            "Epoch 1/10\n",
            "20/20 [==============================] - 14s 452ms/step - loss: 0.7277 - accuracy: 0.5375\n",
            "Epoch 2/10\n",
            "20/20 [==============================] - 11s 529ms/step - loss: 0.7094 - accuracy: 0.4875\n",
            "Epoch 3/10\n",
            "20/20 [==============================] - 7s 361ms/step - loss: 0.6634 - accuracy: 0.5688\n",
            "Epoch 4/10\n",
            "20/20 [==============================] - 8s 372ms/step - loss: 0.6209 - accuracy: 0.7000\n",
            "Epoch 5/10\n",
            "20/20 [==============================] - 9s 476ms/step - loss: 0.6072 - accuracy: 0.7563\n",
            "Epoch 6/10\n",
            "20/20 [==============================] - 8s 375ms/step - loss: 0.5254 - accuracy: 0.8750\n",
            "Epoch 7/10\n",
            "20/20 [==============================] - 11s 518ms/step - loss: 0.4410 - accuracy: 0.9375\n",
            "Epoch 8/10\n",
            "20/20 [==============================] - 6s 293ms/step - loss: 0.3782 - accuracy: 0.9500\n",
            "Epoch 9/10\n",
            "20/20 [==============================] - 8s 335ms/step - loss: 0.3165 - accuracy: 0.9563\n",
            "Epoch 10/10\n",
            "20/20 [==============================] - 8s 367ms/step - loss: 0.2875 - accuracy: 0.9125\n"
          ]
        },
        {
          "output_type": "execute_result",
          "data": {
            "text/plain": [
              "<keras.src.callbacks.History at 0x7b77c4a943d0>"
            ]
          },
          "metadata": {},
          "execution_count": 19
        }
      ]
    },
    {
      "cell_type": "code",
      "source": [
        "test_loss,test_acc=vgg19_model.evaluate(test_set,verbose=2)\n",
        "\n",
        "print(\"\\n\\n\")\n",
        "print(\"Test loss: \\t\",test_loss,\"\\n\")\n",
        "print(\"Test accuracy: \\t\",test_acc,\"\\n\")"
      ],
      "metadata": {
        "colab": {
          "base_uri": "https://localhost:8080/"
        },
        "id": "MzhCF0SN9v3K",
        "outputId": "67f6449e-77b9-4f85-a53d-475497210978"
      },
      "execution_count": null,
      "outputs": [
        {
          "output_type": "stream",
          "name": "stdout",
          "text": [
            "114/114 - 3s - loss: 0.2062 - accuracy: 0.9561 - 3s/epoch - 29ms/step\n",
            "\n",
            "\n",
            "\n",
            "Test loss: \t 0.2062283456325531 \n",
            "\n",
            "Test accuracy: \t 0.9560921788215637 \n",
            "\n"
          ]
        }
      ]
    }
  ]
}